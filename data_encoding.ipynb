{
 "cells": [
  {
   "cell_type": "code",
   "execution_count": 1,
   "metadata": {},
   "outputs": [],
   "source": [
    "import pandas as pd\n",
    "import numpy as np\n",
    "from tqdm import tqdm"
   ]
  },
  {
   "cell_type": "code",
   "execution_count": 2,
   "metadata": {},
   "outputs": [],
   "source": [
    "train_df = pd.read_csv(\"./data/updated_train.csv\")"
   ]
  },
  {
   "cell_type": "code",
   "execution_count": 3,
   "metadata": {},
   "outputs": [],
   "source": [
    "D = set()\n",
    "for seq in train_df.protein_sequence:\n",
    "    D.update(list(seq))\n",
    "D = sorted(D)"
   ]
  },
  {
   "cell_type": "code",
   "execution_count": 14,
   "metadata": {},
   "outputs": [],
   "source": [
    "mapping = {char: val+1 for val, char in enumerate(D)}\n",
    "\n",
    "protein_sequences = np.zeros((len(train_df), train_df.protein_sequence.str.len().max()), dtype=np.int8)\n",
    "\n",
    "for i, seq in enumerate(tqdm(train_df.protein_sequence)):\n",
    "    for j, char in enumerate(seq):\n",
    "        protein_sequences[i][j] = mapping[char]"
   ]
  },
  {
   "cell_type": "code",
   "execution_count": 13,
   "metadata": {},
   "outputs": [],
   "source": [
    "!mkdir -p ./data/int_mapped_zero_padded\n",
    "np.save(\"./data/int_mapped_zero_padded/inputs.npy\", protein_sequences)\n",
    "np.save(\"./data/int_mapped_zero_padded/targets.npy\", train_df.tm)"
   ]
  },
  {
   "cell_type": "code",
   "execution_count": 4,
   "metadata": {},
   "outputs": [
    {
     "name": "stderr",
     "output_type": "stream",
     "text": [
      "100%|██████████| 28981/28981 [00:16<00:00, 1748.19it/s]\n"
     ]
    }
   ],
   "source": [
    "one_hot = np.eye(len(D))\n",
    "one_hot_encoded_mapping = {char: one_hot[val] for val, char in enumerate(D)}\n",
    "\n",
    "max_seq_len = train_df.protein_sequence.str.len().max()\n",
    "protein_sequences = np.zeros((len(train_df), max_seq_len, len(D)), dtype=np.int8)\n",
    "\n",
    "for i, seq in enumerate(tqdm(train_df.protein_sequence)):\n",
    "    for j, char in enumerate(seq[::-1]):\n",
    "        protein_sequences[i][max_seq_len-1-j] = one_hot_encoded_mapping[char]"
   ]
  },
  {
   "cell_type": "code",
   "execution_count": 5,
   "metadata": {},
   "outputs": [],
   "source": [
    "!mkdir -p ./data/one_hot_zero_padded\n",
    "np.save(\"./data/one_hot_zero_padded/inputs.npy\", protein_sequences)\n",
    "np.save(\"./data/one_hot_zero_padded/targets.npy\", train_df.tm)"
   ]
  }
 ],
 "metadata": {
  "kernelspec": {
   "display_name": "Python 3.9.12 64-bit",
   "language": "python",
   "name": "python3"
  },
  "language_info": {
   "codemirror_mode": {
    "name": "ipython",
    "version": 3
   },
   "file_extension": ".py",
   "mimetype": "text/x-python",
   "name": "python",
   "nbconvert_exporter": "python",
   "pygments_lexer": "ipython3",
   "version": "3.9.12"
  },
  "orig_nbformat": 4,
  "vscode": {
   "interpreter": {
    "hash": "aee8b7b246df8f9039afb4144a1f6fd8d2ca17a180786b69acc140d282b71a49"
   }
  }
 },
 "nbformat": 4,
 "nbformat_minor": 2
}
